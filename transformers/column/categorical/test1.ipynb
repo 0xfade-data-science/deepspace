{
  "cells": [
    {
      "cell_type": "code",
      "execution_count": 4,
      "metadata": {},
      "outputs": [
        {
          "data": {
            "text/plain": [
              "<deepspace.DataSpace.DataSpace at 0x23c4a720b00>"
            ]
          },
          "execution_count": 4,
          "metadata": {},
          "output_type": "execute_result"
        }
      ],
      "source": [
        "import sys\n",
        "sys.path.insert(0, r\"C:\\Users\\fdemb\\Documents\\Work\\Projets\\AI\\MIT\\Capstone Project\\followup work\\lib\")\n",
        "\n",
        "from deepspace.DataSpace import DataSpace\n",
        "DataSpace()"
      ]
    },
    {
      "cell_type": "code",
      "execution_count": 5,
      "metadata": {},
      "outputs": [
        {
          "name": "stdout",
          "output_type": "stream",
          "text": [
            "<deepspace.DataSpace.DataSpace object at 0x0000023C4BDBBBA8>\n"
          ]
        }
      ],
      "source": [
        "\n",
        "from deepspace.IncrementalLearning import IncrementalLearner\n",
        "\n",
        "\n",
        "#file=r'/content/used_cars.csv'\n",
        "file=r'C:\\Users\\fdemb\\Documents\\Work\\Projets\\AI\\MIT\\Capstone Project\\data\\used_cars.csv'\n",
        "\n",
        "#MyBaseClass.use_sep = False\n",
        "transformers = [\n",
        "    DataSpace(),\n",
        "]\n",
        "\n",
        "learner = IncrementalLearner()\n",
        "\n",
        "ds = learner.prepare(transformers, file=file, sep=',', debug=False) # this loads the data and prepares it to further analysis and modeling\n"
      ]
    },
    {
      "cell_type": "code",
      "execution_count": 6,
      "metadata": {},
      "outputs": [
        {
          "name": "stdout",
          "output_type": "stream",
          "text": [
            "<deepspace.transformers.overview.Overview.Overview object at 0x0000023C4BDBB9E8>\n"
          ]
        },
        {
          "data": {
            "text/html": [
              "<table border=\"1\" class=\"dataframe\">\n",
              "  <thead>\n",
              "    <tr style=\"text-align: right;\">\n",
              "      <th></th>\n",
              "      <th>S.No.</th>\n",
              "      <th>Name</th>\n",
              "      <th>Location</th>\n",
              "      <th>Year</th>\n",
              "      <th>Kilometers_Driven</th>\n",
              "      <th>Fuel_Type</th>\n",
              "      <th>Transmission</th>\n",
              "      <th>Owner_Type</th>\n",
              "      <th>Mileage</th>\n",
              "      <th>Engine</th>\n",
              "      <th>Power</th>\n",
              "      <th>Seats</th>\n",
              "      <th>New_price</th>\n",
              "      <th>Price</th>\n",
              "    </tr>\n",
              "  </thead>\n",
              "  <tbody>\n",
              "    <tr>\n",
              "      <th>0</th>\n",
              "      <td>0</td>\n",
              "      <td>Maruti Wagon R LXI CNG</td>\n",
              "      <td>Mumbai</td>\n",
              "      <td>2010</td>\n",
              "      <td>72000</td>\n",
              "      <td>CNG</td>\n",
              "      <td>Manual</td>\n",
              "      <td>First</td>\n",
              "      <td>26.60</td>\n",
              "      <td>998.0</td>\n",
              "      <td>58.16</td>\n",
              "      <td>5.0</td>\n",
              "      <td>NaN</td>\n",
              "      <td>1.75</td>\n",
              "    </tr>\n",
              "    <tr>\n",
              "      <th>1</th>\n",
              "      <td>1</td>\n",
              "      <td>Hyundai Creta 1.6 CRDi SX Option</td>\n",
              "      <td>Pune</td>\n",
              "      <td>2015</td>\n",
              "      <td>41000</td>\n",
              "      <td>Diesel</td>\n",
              "      <td>Manual</td>\n",
              "      <td>First</td>\n",
              "      <td>19.67</td>\n",
              "      <td>1582.0</td>\n",
              "      <td>126.20</td>\n",
              "      <td>5.0</td>\n",
              "      <td>NaN</td>\n",
              "      <td>12.50</td>\n",
              "    </tr>\n",
              "    <tr>\n",
              "      <th>2</th>\n",
              "      <td>2</td>\n",
              "      <td>Honda Jazz V</td>\n",
              "      <td>Chennai</td>\n",
              "      <td>2011</td>\n",
              "      <td>46000</td>\n",
              "      <td>Petrol</td>\n",
              "      <td>Manual</td>\n",
              "      <td>First</td>\n",
              "      <td>18.20</td>\n",
              "      <td>1199.0</td>\n",
              "      <td>88.70</td>\n",
              "      <td>5.0</td>\n",
              "      <td>8.61</td>\n",
              "      <td>4.50</td>\n",
              "    </tr>\n",
              "    <tr>\n",
              "      <th>3</th>\n",
              "      <td>3</td>\n",
              "      <td>Maruti Ertiga VDI</td>\n",
              "      <td>Chennai</td>\n",
              "      <td>2012</td>\n",
              "      <td>87000</td>\n",
              "      <td>Diesel</td>\n",
              "      <td>Manual</td>\n",
              "      <td>First</td>\n",
              "      <td>20.77</td>\n",
              "      <td>1248.0</td>\n",
              "      <td>88.76</td>\n",
              "      <td>7.0</td>\n",
              "      <td>NaN</td>\n",
              "      <td>6.00</td>\n",
              "    </tr>\n",
              "    <tr>\n",
              "      <th>4</th>\n",
              "      <td>4</td>\n",
              "      <td>Audi A4 New 2.0 TDI Multitronic</td>\n",
              "      <td>Coimbatore</td>\n",
              "      <td>2013</td>\n",
              "      <td>40670</td>\n",
              "      <td>Diesel</td>\n",
              "      <td>Automatic</td>\n",
              "      <td>Second</td>\n",
              "      <td>15.20</td>\n",
              "      <td>1968.0</td>\n",
              "      <td>140.80</td>\n",
              "      <td>5.0</td>\n",
              "      <td>NaN</td>\n",
              "      <td>17.74</td>\n",
              "    </tr>\n",
              "  </tbody>\n",
              "</table>"
            ],
            "text/plain": [
              "<IPython.core.display.HTML object>"
            ]
          },
          "metadata": {},
          "output_type": "display_data"
        },
        {
          "data": {
            "text/html": [
              "<table border=\"1\" class=\"dataframe\">\n",
              "  <thead>\n",
              "    <tr style=\"text-align: right;\">\n",
              "      <th></th>\n",
              "      <th>S.No.</th>\n",
              "      <th>Name</th>\n",
              "      <th>Location</th>\n",
              "      <th>Year</th>\n",
              "      <th>Kilometers_Driven</th>\n",
              "      <th>Fuel_Type</th>\n",
              "      <th>Transmission</th>\n",
              "      <th>Owner_Type</th>\n",
              "      <th>Mileage</th>\n",
              "      <th>Engine</th>\n",
              "      <th>Power</th>\n",
              "      <th>Seats</th>\n",
              "      <th>New_price</th>\n",
              "      <th>Price</th>\n",
              "    </tr>\n",
              "  </thead>\n",
              "  <tbody>\n",
              "    <tr>\n",
              "      <th>7248</th>\n",
              "      <td>7248</td>\n",
              "      <td>Volkswagen Vento Diesel Trendline</td>\n",
              "      <td>Hyderabad</td>\n",
              "      <td>2011</td>\n",
              "      <td>89411</td>\n",
              "      <td>Diesel</td>\n",
              "      <td>Manual</td>\n",
              "      <td>First</td>\n",
              "      <td>20.54</td>\n",
              "      <td>1598.0</td>\n",
              "      <td>103.6</td>\n",
              "      <td>5.0</td>\n",
              "      <td>NaN</td>\n",
              "      <td>NaN</td>\n",
              "    </tr>\n",
              "    <tr>\n",
              "      <th>7249</th>\n",
              "      <td>7249</td>\n",
              "      <td>Volkswagen Polo GT TSI</td>\n",
              "      <td>Mumbai</td>\n",
              "      <td>2015</td>\n",
              "      <td>59000</td>\n",
              "      <td>Petrol</td>\n",
              "      <td>Automatic</td>\n",
              "      <td>First</td>\n",
              "      <td>17.21</td>\n",
              "      <td>1197.0</td>\n",
              "      <td>103.6</td>\n",
              "      <td>5.0</td>\n",
              "      <td>NaN</td>\n",
              "      <td>NaN</td>\n",
              "    </tr>\n",
              "    <tr>\n",
              "      <th>7250</th>\n",
              "      <td>7250</td>\n",
              "      <td>Nissan Micra Diesel XV</td>\n",
              "      <td>Kolkata</td>\n",
              "      <td>2012</td>\n",
              "      <td>28000</td>\n",
              "      <td>Diesel</td>\n",
              "      <td>Manual</td>\n",
              "      <td>First</td>\n",
              "      <td>23.08</td>\n",
              "      <td>1461.0</td>\n",
              "      <td>63.1</td>\n",
              "      <td>5.0</td>\n",
              "      <td>NaN</td>\n",
              "      <td>NaN</td>\n",
              "    </tr>\n",
              "    <tr>\n",
              "      <th>7251</th>\n",
              "      <td>7251</td>\n",
              "      <td>Volkswagen Polo GT TSI</td>\n",
              "      <td>Pune</td>\n",
              "      <td>2013</td>\n",
              "      <td>52262</td>\n",
              "      <td>Petrol</td>\n",
              "      <td>Automatic</td>\n",
              "      <td>Third</td>\n",
              "      <td>17.20</td>\n",
              "      <td>1197.0</td>\n",
              "      <td>103.6</td>\n",
              "      <td>5.0</td>\n",
              "      <td>NaN</td>\n",
              "      <td>NaN</td>\n",
              "    </tr>\n",
              "    <tr>\n",
              "      <th>7252</th>\n",
              "      <td>7252</td>\n",
              "      <td>Mercedes-Benz E-Class 2009-2013 E 220 CDI Avantgarde</td>\n",
              "      <td>Kochi</td>\n",
              "      <td>2014</td>\n",
              "      <td>72443</td>\n",
              "      <td>Diesel</td>\n",
              "      <td>Automatic</td>\n",
              "      <td>First</td>\n",
              "      <td>10.00</td>\n",
              "      <td>2148.0</td>\n",
              "      <td>170.0</td>\n",
              "      <td>5.0</td>\n",
              "      <td>NaN</td>\n",
              "      <td>NaN</td>\n",
              "    </tr>\n",
              "  </tbody>\n",
              "</table>"
            ],
            "text/plain": [
              "<IPython.core.display.HTML object>"
            ]
          },
          "metadata": {},
          "output_type": "display_data"
        },
        {
          "name": "stdout",
          "output_type": "stream",
          "text": [
            "<class 'pandas.core.frame.DataFrame'>\n",
            "RangeIndex: 7253 entries, 0 to 7252\n",
            "Data columns (total 14 columns):\n",
            " #   Column             Non-Null Count  Dtype  \n",
            "---  ------             --------------  -----  \n",
            " 0   S.No.              7253 non-null   int64  \n",
            " 1   Name               7253 non-null   object \n",
            " 2   Location           7253 non-null   object \n",
            " 3   Year               7253 non-null   int64  \n",
            " 4   Kilometers_Driven  7253 non-null   int64  \n",
            " 5   Fuel_Type          7253 non-null   object \n",
            " 6   Transmission       7253 non-null   object \n",
            " 7   Owner_Type         7253 non-null   object \n",
            " 8   Mileage            7251 non-null   float64\n",
            " 9   Engine             7207 non-null   float64\n",
            " 10  Power              7078 non-null   float64\n",
            " 11  Seats              7200 non-null   float64\n",
            " 12  New_price          1006 non-null   float64\n",
            " 13  Price              6019 non-null   float64\n",
            "dtypes: float64(6), int64(3), object(5)\n",
            "memory usage: 793.4+ KB\n",
            "\n",
            "\n",
            "(7253, 14)\n"
          ]
        },
        {
          "data": {
            "text/plain": [
              "<deepspace.DataSpace.DataSpace at 0x23c4bdbba20>"
            ]
          },
          "execution_count": 6,
          "metadata": {},
          "output_type": "execute_result"
        }
      ],
      "source": [
        "from deepspace.transformers.overview.Overview import Overview\n",
        "transformers = [\n",
        "    Overview(),\n",
        "]\n",
        "learner.learn(transformers)"
      ]
    },
    {
      "cell_type": "code",
      "execution_count": 7,
      "metadata": {},
      "outputs": [
        {
          "name": "stdout",
          "output_type": "stream",
          "text": [
            "<deepspace.transformers.overview.Describe.Describe object at 0x0000023C4BDBBAC8>\n"
          ]
        },
        {
          "data": {
            "text/html": [
              "<table border=\"1\" class=\"dataframe\">\n",
              "  <thead>\n",
              "    <tr style=\"text-align: right;\">\n",
              "      <th></th>\n",
              "      <th>count</th>\n",
              "      <th>mean</th>\n",
              "      <th>std</th>\n",
              "      <th>min</th>\n",
              "      <th>25%</th>\n",
              "      <th>50%</th>\n",
              "      <th>75%</th>\n",
              "      <th>max</th>\n",
              "    </tr>\n",
              "  </thead>\n",
              "  <tbody>\n",
              "    <tr>\n",
              "      <th>S.No.</th>\n",
              "      <td>7253.0</td>\n",
              "      <td>3626.000000</td>\n",
              "      <td>2093.905084</td>\n",
              "      <td>0.00</td>\n",
              "      <td>1813.000</td>\n",
              "      <td>3626.00</td>\n",
              "      <td>5439.0000</td>\n",
              "      <td>7252.00</td>\n",
              "    </tr>\n",
              "    <tr>\n",
              "      <th>Year</th>\n",
              "      <td>7253.0</td>\n",
              "      <td>2013.365366</td>\n",
              "      <td>3.254421</td>\n",
              "      <td>1996.00</td>\n",
              "      <td>2011.000</td>\n",
              "      <td>2014.00</td>\n",
              "      <td>2016.0000</td>\n",
              "      <td>2019.00</td>\n",
              "    </tr>\n",
              "    <tr>\n",
              "      <th>Kilometers_Driven</th>\n",
              "      <td>7253.0</td>\n",
              "      <td>58699.063146</td>\n",
              "      <td>84427.720583</td>\n",
              "      <td>171.00</td>\n",
              "      <td>34000.000</td>\n",
              "      <td>53416.00</td>\n",
              "      <td>73000.0000</td>\n",
              "      <td>6500000.00</td>\n",
              "    </tr>\n",
              "    <tr>\n",
              "      <th>Mileage</th>\n",
              "      <td>7251.0</td>\n",
              "      <td>18.141580</td>\n",
              "      <td>4.562197</td>\n",
              "      <td>0.00</td>\n",
              "      <td>15.170</td>\n",
              "      <td>18.16</td>\n",
              "      <td>21.1000</td>\n",
              "      <td>33.54</td>\n",
              "    </tr>\n",
              "    <tr>\n",
              "      <th>Engine</th>\n",
              "      <td>7207.0</td>\n",
              "      <td>1616.573470</td>\n",
              "      <td>595.285137</td>\n",
              "      <td>72.00</td>\n",
              "      <td>1198.000</td>\n",
              "      <td>1493.00</td>\n",
              "      <td>1968.0000</td>\n",
              "      <td>5998.00</td>\n",
              "    </tr>\n",
              "    <tr>\n",
              "      <th>Power</th>\n",
              "      <td>7078.0</td>\n",
              "      <td>112.765214</td>\n",
              "      <td>53.493553</td>\n",
              "      <td>34.20</td>\n",
              "      <td>75.000</td>\n",
              "      <td>94.00</td>\n",
              "      <td>138.1000</td>\n",
              "      <td>616.00</td>\n",
              "    </tr>\n",
              "    <tr>\n",
              "      <th>Seats</th>\n",
              "      <td>7200.0</td>\n",
              "      <td>5.280417</td>\n",
              "      <td>0.809277</td>\n",
              "      <td>2.00</td>\n",
              "      <td>5.000</td>\n",
              "      <td>5.00</td>\n",
              "      <td>5.0000</td>\n",
              "      <td>10.00</td>\n",
              "    </tr>\n",
              "    <tr>\n",
              "      <th>New_price</th>\n",
              "      <td>1006.0</td>\n",
              "      <td>22.779692</td>\n",
              "      <td>27.759344</td>\n",
              "      <td>3.91</td>\n",
              "      <td>7.885</td>\n",
              "      <td>11.57</td>\n",
              "      <td>26.0425</td>\n",
              "      <td>375.00</td>\n",
              "    </tr>\n",
              "    <tr>\n",
              "      <th>Price</th>\n",
              "      <td>6019.0</td>\n",
              "      <td>9.479468</td>\n",
              "      <td>11.187917</td>\n",
              "      <td>0.44</td>\n",
              "      <td>3.500</td>\n",
              "      <td>5.64</td>\n",
              "      <td>9.9500</td>\n",
              "      <td>160.00</td>\n",
              "    </tr>\n",
              "  </tbody>\n",
              "</table>"
            ],
            "text/plain": [
              "<IPython.core.display.HTML object>"
            ]
          },
          "metadata": {},
          "output_type": "display_data"
        },
        {
          "data": {
            "text/plain": [
              "<deepspace.DataSpace.DataSpace at 0x23c4bf30da0>"
            ]
          },
          "execution_count": 7,
          "metadata": {},
          "output_type": "execute_result"
        }
      ],
      "source": [
        "from deepspace.transformers.overview.Describe import Describe\n",
        "\n",
        "transformers = [\n",
        "    Describe(),\n",
        "]\n",
        "learner.learn(transformers)"
      ]
    },
    {
      "cell_type": "code",
      "execution_count": 8,
      "metadata": {},
      "outputs": [
        {
          "name": "stdout",
          "output_type": "stream",
          "text": [
            "<class 'pandas.core.frame.DataFrame'>\n",
            "RangeIndex: 7253 entries, 0 to 7252\n",
            "Data columns (total 14 columns):\n",
            " #   Column             Non-Null Count  Dtype  \n",
            "---  ------             --------------  -----  \n",
            " 0   S.No.              7253 non-null   int64  \n",
            " 1   Name               7253 non-null   object \n",
            " 2   Location           7253 non-null   object \n",
            " 3   Year               7253 non-null   int64  \n",
            " 4   Kilometers_Driven  7253 non-null   int64  \n",
            " 5   Fuel_Type          7253 non-null   object \n",
            " 6   Transmission       7253 non-null   object \n",
            " 7   Owner_Type         7253 non-null   object \n",
            " 8   Mileage            7251 non-null   float64\n",
            " 9   Engine             7207 non-null   float64\n",
            " 10  Power              7078 non-null   float64\n",
            " 11  Seats              7200 non-null   float64\n",
            " 12  New_price          1006 non-null   float64\n",
            " 13  Price              6019 non-null   float64\n",
            "dtypes: float64(6), int64(3), object(5)\n",
            "memory usage: 793.4+ KB\n"
          ]
        }
      ],
      "source": [
        "ds.data.info()"
      ]
    },
    {
      "cell_type": "code",
      "execution_count": 9,
      "metadata": {},
      "outputs": [
        {
          "name": "stdout",
          "output_type": "stream",
          "text": [
            "<deepspace.transformers.null.Check.CheckNulls object at 0x0000023C4BF30EF0>\n",
            "S.No.                 0.000000\n",
            "Name                  0.000000\n",
            "Location              0.000000\n",
            "Year                  0.000000\n",
            "Kilometers_Driven     0.000000\n",
            "Fuel_Type             0.000000\n",
            "Transmission          0.000000\n",
            "Owner_Type            0.000000\n",
            "Mileage               0.027575\n",
            "Engine                0.634220\n",
            "Power                 2.412795\n",
            "Seats                 0.730732\n",
            "New_price            86.129877\n",
            "Price                17.013650\n",
            "dtype: float64\n"
          ]
        },
        {
          "data": {
            "text/plain": [
              "<deepspace.DataSpace.DataSpace at 0x23c4be1c048>"
            ]
          },
          "execution_count": 9,
          "metadata": {},
          "output_type": "execute_result"
        }
      ],
      "source": [
        "from deepspace.transformers.null.Check import CheckNulls\n",
        "\n",
        "transformers = [\n",
        "    CheckNulls(),\n",
        "]\n",
        "learner.learn(transformers)"
      ]
    },
    {
      "cell_type": "code",
      "execution_count": 10,
      "metadata": {},
      "outputs": [
        {
          "name": "stdout",
          "output_type": "stream",
          "text": [
            "<deepspace.transformers.null.Process.ProcessImputation object at 0x0000023C4BF30710>\n",
            "================================================== transform  \n",
            "================================================== impute_nulls  \n",
            "S.No.                 0.000000\n",
            "Name                  0.000000\n",
            "Location              0.000000\n",
            "Year                  0.000000\n",
            "Kilometers_Driven     0.000000\n",
            "Fuel_Type             0.000000\n",
            "Transmission          0.000000\n",
            "Owner_Type            0.000000\n",
            "Mileage               0.027575\n",
            "Engine                0.634220\n",
            "Power                 2.412795\n",
            "Seats                 0.730732\n",
            "New_price            86.129877\n",
            "Price                17.013650\n",
            "dtype: float64\n",
            "num cols to impute\n",
            "['Mileage', 'Engine', 'Power', 'Seats', 'New_price', 'Price']\n",
            "cat cols to impute\n",
            "[]\n",
            "df cols\n",
            "Index(['S.No.', 'Name', 'Location', 'Year', 'Kilometers_Driven', 'Fuel_Type',\n",
            "       'Transmission', 'Owner_Type', 'Mileage', 'Engine', 'Power', 'Seats',\n",
            "       'New_price', 'Price'],\n",
            "      dtype='object')\n",
            "S.No.                0.0\n",
            "Name                 0.0\n",
            "Location             0.0\n",
            "Year                 0.0\n",
            "Kilometers_Driven    0.0\n",
            "Fuel_Type            0.0\n",
            "Transmission         0.0\n",
            "Owner_Type           0.0\n",
            "Mileage              0.0\n",
            "Engine               0.0\n",
            "Power                0.0\n",
            "Seats                0.0\n",
            "New_price            0.0\n",
            "Price                0.0\n",
            "dtype: float64\n"
          ]
        },
        {
          "data": {
            "text/plain": [
              "<deepspace.DataSpace.DataSpace at 0x23c46a34048>"
            ]
          },
          "execution_count": 10,
          "metadata": {},
          "output_type": "execute_result"
        }
      ],
      "source": [
        "from deepspace.transformers.null.Process import ProcessImputation\n",
        "\n",
        "transformers = [\n",
        "    ProcessImputation(),\n",
        "]\n",
        "learner.learn(transformers)"
      ]
    },
    {
      "cell_type": "code",
      "execution_count": 11,
      "metadata": {},
      "outputs": [
        {
          "name": "stdout",
          "output_type": "stream",
          "text": [
            "<deepspace.transformers.null.Process.ProcessImputation object at 0x0000023C4BDBB6D8>\n",
            "================================================== transform  \n",
            "================================================== impute_nulls  \n",
            "S.No.                0.0\n",
            "Name                 0.0\n",
            "Location             0.0\n",
            "Year                 0.0\n",
            "Kilometers_Driven    0.0\n",
            "Fuel_Type            0.0\n",
            "Transmission         0.0\n",
            "Owner_Type           0.0\n",
            "Mileage              0.0\n",
            "Engine               0.0\n",
            "Power                0.0\n",
            "Seats                0.0\n",
            "New_price            0.0\n",
            "Price                0.0\n",
            "dtype: float64\n",
            "num cols to impute\n",
            "[]\n",
            "cat cols to impute\n",
            "[]\n",
            "df cols\n",
            "Index(['S.No.', 'Name', 'Location', 'Year', 'Kilometers_Driven', 'Fuel_Type',\n",
            "       'Transmission', 'Owner_Type', 'Mileage', 'Engine', 'Power', 'Seats',\n",
            "       'New_price', 'Price'],\n",
            "      dtype='object')\n",
            "S.No.                0.0\n",
            "Name                 0.0\n",
            "Location             0.0\n",
            "Year                 0.0\n",
            "Kilometers_Driven    0.0\n",
            "Fuel_Type            0.0\n",
            "Transmission         0.0\n",
            "Owner_Type           0.0\n",
            "Mileage              0.0\n",
            "Engine               0.0\n",
            "Power                0.0\n",
            "Seats                0.0\n",
            "New_price            0.0\n",
            "Price                0.0\n",
            "dtype: float64\n"
          ]
        },
        {
          "data": {
            "text/plain": [
              "<deepspace.DataSpace.DataSpace at 0x23c5c0cb860>"
            ]
          },
          "execution_count": 11,
          "metadata": {},
          "output_type": "execute_result"
        }
      ],
      "source": [
        "from deepspace.transformers.null.Process import ProcessImputation\n",
        "\n",
        "transformers = [\n",
        "    ProcessImputation(),\n",
        "]\n",
        "learner.learn(transformers)"
      ]
    },
    {
      "cell_type": "code",
      "execution_count": 12,
      "metadata": {},
      "outputs": [
        {
          "name": "stdout",
          "output_type": "stream",
          "text": [
            "<deepspace.transformers.duplicates.CheckDuplicated.CheckDuplicated object at 0x0000023C4A716320>\n",
            "================================================== check_dupes  \n",
            "Duplicates found : 0\n"
          ]
        },
        {
          "data": {
            "text/plain": [
              "<deepspace.DataSpace.DataSpace at 0x23c4a716668>"
            ]
          },
          "execution_count": 12,
          "metadata": {},
          "output_type": "execute_result"
        }
      ],
      "source": [
        "from deepspace.transformers.duplicates.CheckDuplicated import CheckDuplicated\n",
        "\n",
        "transformers = [\n",
        "    CheckDuplicated(),\n",
        "]\n",
        "learner.learn(transformers)"
      ]
    },
    {
      "cell_type": "code",
      "execution_count": 14,
      "metadata": {},
      "outputs": [
        {
          "name": "stdout",
          "output_type": "stream",
          "text": [
            "<deepspace.transformers.outliers.Check.CheckOutliers object at 0x0000023C5C4D56A0>\n",
            "Feature *Year*: found 58 lower_bound outliers\n",
            "Feature *Kilometers_Driven*: found 258 upper_bound rows outliers\n",
            "Feature *Mileage*: found 81 lower_bound outliers\n",
            "Feature *Mileage*: found 18 upper_bound rows outliers\n",
            "Feature *Engine*: found 65 upper_bound rows outliers\n",
            "Feature *Power*: found 274 upper_bound rows outliers\n",
            "Feature *Seats*: found 137 lower_bound outliers\n",
            "Feature *Seats*: found 1068 upper_bound rows outliers\n",
            "Feature *New_price*: found 721 lower_bound outliers\n",
            "Feature *New_price*: found 285 upper_bound rows outliers\n",
            "Feature *Price*: found 807 upper_bound rows outliers\n"
          ]
        },
        {
          "data": {
            "text/plain": [
              "<deepspace.DataSpace.DataSpace at 0x23c5c5177f0>"
            ]
          },
          "execution_count": 14,
          "metadata": {},
          "output_type": "execute_result"
        }
      ],
      "source": [
        "from deepspace.transformers.outliers.Check import CheckOutliers\n",
        "\n",
        "transformers = [\n",
        "    CheckOutliers(),\n",
        "]\n",
        "ds = learner.learn(transformers)"
      ]
    },
    {
      "cell_type": "code",
      "execution_count": 17,
      "metadata": {},
      "outputs": [
        {
          "name": "stdout",
          "output_type": "stream",
          "text": [
            "<deepspace.transformers.overview.Describe.Describe object at 0x0000023C5C596C50>\n"
          ]
        },
        {
          "data": {
            "text/html": [
              "<table border=\"1\" class=\"dataframe\">\n",
              "  <thead>\n",
              "    <tr style=\"text-align: right;\">\n",
              "      <th></th>\n",
              "      <th>count</th>\n",
              "      <th>mean</th>\n",
              "      <th>std</th>\n",
              "      <th>min</th>\n",
              "      <th>25%</th>\n",
              "      <th>50%</th>\n",
              "      <th>75%</th>\n",
              "      <th>max</th>\n",
              "    </tr>\n",
              "  </thead>\n",
              "  <tbody>\n",
              "    <tr>\n",
              "      <th>Mileage</th>\n",
              "      <td>7253.0</td>\n",
              "      <td>18.141580</td>\n",
              "      <td>4.561567</td>\n",
              "      <td>0.00</td>\n",
              "      <td>15.170000</td>\n",
              "      <td>18.160000</td>\n",
              "      <td>21.100000</td>\n",
              "      <td>33.54</td>\n",
              "    </tr>\n",
              "    <tr>\n",
              "      <th>Kilometers_Driven</th>\n",
              "      <td>7253.0</td>\n",
              "      <td>58699.063146</td>\n",
              "      <td>84427.720583</td>\n",
              "      <td>171.00</td>\n",
              "      <td>34000.000000</td>\n",
              "      <td>53416.000000</td>\n",
              "      <td>73000.000000</td>\n",
              "      <td>6500000.00</td>\n",
              "    </tr>\n",
              "    <tr>\n",
              "      <th>Engine</th>\n",
              "      <td>7253.0</td>\n",
              "      <td>1616.573470</td>\n",
              "      <td>593.394164</td>\n",
              "      <td>72.00</td>\n",
              "      <td>1198.000000</td>\n",
              "      <td>1493.000000</td>\n",
              "      <td>1968.000000</td>\n",
              "      <td>5998.00</td>\n",
              "    </tr>\n",
              "    <tr>\n",
              "      <th>Power</th>\n",
              "      <td>7253.0</td>\n",
              "      <td>112.765214</td>\n",
              "      <td>52.844178</td>\n",
              "      <td>34.20</td>\n",
              "      <td>77.000000</td>\n",
              "      <td>98.600000</td>\n",
              "      <td>138.030000</td>\n",
              "      <td>616.00</td>\n",
              "    </tr>\n",
              "    <tr>\n",
              "      <th>Seats</th>\n",
              "      <td>7253.0</td>\n",
              "      <td>5.280417</td>\n",
              "      <td>0.806315</td>\n",
              "      <td>2.00</td>\n",
              "      <td>5.000000</td>\n",
              "      <td>5.000000</td>\n",
              "      <td>5.000000</td>\n",
              "      <td>10.00</td>\n",
              "    </tr>\n",
              "    <tr>\n",
              "      <th>New_price</th>\n",
              "      <td>7253.0</td>\n",
              "      <td>22.779692</td>\n",
              "      <td>10.333878</td>\n",
              "      <td>3.91</td>\n",
              "      <td>22.779692</td>\n",
              "      <td>22.779692</td>\n",
              "      <td>22.779692</td>\n",
              "      <td>375.00</td>\n",
              "    </tr>\n",
              "    <tr>\n",
              "      <th>Price</th>\n",
              "      <td>7253.0</td>\n",
              "      <td>9.479468</td>\n",
              "      <td>10.191695</td>\n",
              "      <td>0.44</td>\n",
              "      <td>3.850000</td>\n",
              "      <td>6.750000</td>\n",
              "      <td>9.479468</td>\n",
              "      <td>160.00</td>\n",
              "    </tr>\n",
              "  </tbody>\n",
              "</table>"
            ],
            "text/plain": [
              "<IPython.core.display.HTML object>"
            ]
          },
          "metadata": {},
          "output_type": "display_data"
        }
      ],
      "source": [
        "from deepspace.transformers.outliers.Check import CheckOutliers\n",
        "transformers = [\n",
        "    Describe(include=[\n",
        "            'Mileage',\n",
        "            'Kilometers_Driven',\n",
        "            'Engine',\n",
        "            'Power',\n",
        "            'Seats',\n",
        "            'New_price',\n",
        "            'Price']\n",
        "        ),\n",
        "]\n",
        "ds = learner.learn(transformers)"
      ]
    },
    {
      "cell_type": "code",
      "execution_count": 19,
      "metadata": {},
      "outputs": [
        {
          "name": "stdout",
          "output_type": "stream",
          "text": [
            "<deepspace.transformers.overview.CheckUniqueness.CheckUniqueness object at 0x0000023C5E419A90>\n",
            "================================================== check_unique  \n",
            "================================================== view_uniqueness  \n",
            "================================================== get_uniqueness  \n"
          ]
        },
        {
          "data": {
            "text/html": [
              "<table border=\"1\" class=\"dataframe\">\n",
              "  <thead>\n",
              "    <tr style=\"text-align: right;\">\n",
              "      <th></th>\n",
              "      <th>0</th>\n",
              "    </tr>\n",
              "  </thead>\n",
              "  <tbody>\n",
              "    <tr>\n",
              "      <th>S.No.</th>\n",
              "      <td>7253</td>\n",
              "    </tr>\n",
              "    <tr>\n",
              "      <th>Name</th>\n",
              "      <td>2041</td>\n",
              "    </tr>\n",
              "    <tr>\n",
              "      <th>Location</th>\n",
              "      <td>11</td>\n",
              "    </tr>\n",
              "    <tr>\n",
              "      <th>Year</th>\n",
              "      <td>23</td>\n",
              "    </tr>\n",
              "    <tr>\n",
              "      <th>Kilometers_Driven</th>\n",
              "      <td>3660</td>\n",
              "    </tr>\n",
              "    <tr>\n",
              "      <th>Fuel_Type</th>\n",
              "      <td>5</td>\n",
              "    </tr>\n",
              "    <tr>\n",
              "      <th>Transmission</th>\n",
              "      <td>2</td>\n",
              "    </tr>\n",
              "    <tr>\n",
              "      <th>Owner_Type</th>\n",
              "      <td>4</td>\n",
              "    </tr>\n",
              "    <tr>\n",
              "      <th>Mileage</th>\n",
              "      <td>439</td>\n",
              "    </tr>\n",
              "    <tr>\n",
              "      <th>Engine</th>\n",
              "      <td>151</td>\n",
              "    </tr>\n",
              "    <tr>\n",
              "      <th>Power</th>\n",
              "      <td>384</td>\n",
              "    </tr>\n",
              "    <tr>\n",
              "      <th>Seats</th>\n",
              "      <td>9</td>\n",
              "    </tr>\n",
              "    <tr>\n",
              "      <th>New_price</th>\n",
              "      <td>626</td>\n",
              "    </tr>\n",
              "    <tr>\n",
              "      <th>Price</th>\n",
              "      <td>1374</td>\n",
              "    </tr>\n",
              "  </tbody>\n",
              "</table>"
            ],
            "text/plain": [
              "<IPython.core.display.HTML object>"
            ]
          },
          "metadata": {},
          "output_type": "display_data"
        }
      ],
      "source": [
        "from deepspace.transformers.overview.CheckUniqueness import CheckUniqueness\n",
        "\n",
        "transformers = [\n",
        "   CheckUniqueness(),\n",
        "]\n",
        "ds = learner.learn(transformers)"
      ]
    },
    {
      "cell_type": "code",
      "execution_count": 39,
      "metadata": {},
      "outputs": [
        {
          "name": "stdout",
          "output_type": "stream",
          "text": [
            "<deepspace.transformers.column.categorical.Adjust.Adjust object at 0x0000023C5EAA4240>\n",
            "<deepspace.transformers.column.numerical.Adjust.Adjust object at 0x0000023C5EAA42B0>\n"
          ]
        }
      ],
      "source": [
        "import deepspace.transformers as Ts\n",
        "\n",
        "from deepspace.transformers.column.categorical.Adjust import Adjust as CategoricalAdjuster\n",
        "\n",
        "import deepspace.transformers as TT \n",
        "#TT.column.categorical.Adjust.Adjust\n",
        "#from deepspace.transformers.column.numerical.Adjust import Adjust\n",
        "\n",
        "transformers = [\n",
        "    #Define our categorical columns\n",
        "    #We avoid Name here as the number of values is too important\n",
        "   TT.column.categorical.Adjust.Adjust\n",
        "   ([\n",
        "      #'Name',\n",
        "      'Location',\n",
        "      'Year',\n",
        "      'Fuel_Type',\n",
        "      'Transmission',\n",
        "      'Seats', #not continuous, but ordinal data\n",
        "      'Owner_Type']),\n",
        "    #Define out numerical columns\n",
        "    TT.column.numerical.Adjust.Adjust([\n",
        "        'Kilometers_Driven',\n",
        "        'Mileage',\n",
        "        'Engine',\n",
        "        'Power',\n",
        "        'New_price',\n",
        "        'Price',\n",
        "    ])\n",
        "]\n",
        "ds = learner.learn(transformers)"
      ]
    },
    {
      "cell_type": "code",
      "execution_count": null,
      "metadata": {},
      "outputs": [],
      "source": []
    }
  ],
  "metadata": {
    "kernelspec": {
      "display_name": "Python 3",
      "language": "python",
      "name": "python3"
    },
    "language_info": {
      "codemirror_mode": {
        "name": "ipython",
        "version": 3
      },
      "file_extension": ".py",
      "mimetype": "text/x-python",
      "name": "python",
      "nbconvert_exporter": "python",
      "pygments_lexer": "ipython3",
      "version": "3.6.10"
    }
  },
  "nbformat": 4,
  "nbformat_minor": 2
}
